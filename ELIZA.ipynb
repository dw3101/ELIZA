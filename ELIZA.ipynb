{
  "nbformat": 4,
  "nbformat_minor": 0,
  "metadata": {
    "colab": {
      "provenance": [],
      "authorship_tag": "ABX9TyOYp9kkAg0qGg0Tt/A5bLfy",
      "include_colab_link": true
    },
    "kernelspec": {
      "name": "python3",
      "display_name": "Python 3"
    },
    "language_info": {
      "name": "python"
    }
  },
  "cells": [
    {
      "cell_type": "markdown",
      "metadata": {
        "id": "view-in-github",
        "colab_type": "text"
      },
      "source": [
        "<a href=\"https://colab.research.google.com/github/dw3101/ELIZA/blob/main/ELIZA.ipynb\" target=\"_parent\"><img src=\"https://colab.research.google.com/assets/colab-badge.svg\" alt=\"Open In Colab\"/></a>"
      ]
    },
    {
      "cell_type": "code",
      "source": [
        "!pip install textblob"
      ],
      "metadata": {
        "id": "Bm_fl_wCcrbD"
      },
      "execution_count": null,
      "outputs": []
    },
    {
      "cell_type": "code",
      "source": [
        "import re\n",
        "import random\n",
        "from textblob import TextBlob"
      ],
      "metadata": {
        "id": "nOmM_2bhcrXe"
      },
      "execution_count": null,
      "outputs": []
    },
    {
      "cell_type": "code",
      "source": [
        "#pronouns swapping helper method:\n",
        "def swap_pronouns(text):\n",
        "    swaps = {\"i\": \"you\", \"me\": \"you\", \"my\": \"your\", \"am\": \"are\", \"you\": \"I\", \"your\": \"my\", \"mine\": \"yours\", \"myself\": \"yourself\"}\n",
        "    words = text.lower().split()\n",
        "    return ' '.join([swaps[word] if word in swaps else word for word in words])\n"
      ],
      "metadata": {
        "id": "EhuhIXvqcrK9"
      },
      "execution_count": null,
      "outputs": []
    },
    {
      "cell_type": "code",
      "source": [
        "#A dictionary with set of rules for ELIZA\n",
        "patterns = {\n",
        "    r\"I need (.*)\": [\"Why do you need {0}?\", \"Would it really help you to get {0}?\", \"Are you sure you need {0}?\"],\n",
        "    r\"Why don\\'t you ([^\\?]*)\": [\"Do you really think I don't {0}?\", \"Perhaps eventually I will {0}.\", \"Do you really want me to {0}?\"],\n",
        "    r\"Why can\\'t I ([^\\?]*)\": [\"Do you think you should be able to {0}?\", \"If you could {0}, what would you do?\", \"I don't know -- why can't you {0}?\", \"Have you really tried?\"],\n",
        "    r\"I am (.*)\": [\"Why are you {0}?\", \"How do you feel about being {0}?\"],\n",
        "    r\"I can\\'t (.*)\": [\"How do you know you can't {0}?\", \"Perhaps you could {0} if you tried.\", \"What would it take for you to {0}?\"],\n",
        "    r\"I want (.*)\": [\"What would it mean to you if you got {0}?\", \"Why do you want {0}?\", \"What would you do if you got {0}?\", \"If you got {0}, then what would you do?\"],\n",
        "    r\"I have (.*)\": [\"Why do you tell me that you've {0}?\", \"Have you really {0}?\", \"Now that you have {0}, what will you do next?\"],\n",
        "    r\"I would (.*)\": [\"Could you explain why you would {0}?\", \"Why would you {0}?\", \"Who else knows that you would {0}?\"],\n",
        "    r\"I am feeling (.*)\": [\"Why are you feeling {0}?\", \"How long have you been feeling {0}?\", \"How do you feel when you start feeling {0}?\"],\n",
        "    r\"I feel (.*)\": [\"Tell me more about {0}\"],\n",
        "    r\"I'm (.*)\": [\"Why are you {0}?\", \"How do you feel about being {0}?\"],\n",
        "    r\"I'd (.*)\": [\"Could you explain why you would {0}?\", \"Why would you {0}?\", \"Who else knows that you would {0}?\"],\n",
        "    r\"I remembere (.*)\": [\"Why do you remember {0}?\", \"What happens when you remember {0}?\"],\n",
        "    r\"I (like|love|enjoy) (.*)\": [\"What do you like about {1}?\",\"Why do you {0} {1}?\",\"How often do you {0} {1}?\"],\n",
        "    r\"I (hate|dislike) (.*)\": [\"Why do you {0} {1}?\", \"What happened to make you {0} {1}?\"],\n",
        "    r\"I study (.*)\": [\"What do you enjoy about studying {0}?\", \"Is {0} your favorite subject?\"],\n",
        "    r\"I work at (.*)\": [\"What do you do at {0}?\",\"How do you feel about your work at {0}?\"],\n",
        "    r\"My (mother|father|parent|sister|brother|family) (.*)\": [\"Tell me more about your {0}.\",\"How does your relationship with your {0} affect you?\"],\n",
        "    r\"(.*) friend(.*)\": [\"Tell me more about your friends.\",\"Do your friends influence you?\"],\n",
        "    r\"(.*) (sad|happy|angry|excited|anxious|depressed|tired|lonely)(.*)\": [\"How long have you felt {1}?\",\"What do you think causes you to feel {1}?\"],\n",
        "    r\"(.*)\\?\": [\"Why do you ask that?\",\"What do you think?\",\"How would you answer that?\"],\n",
        "    r\"Yes\": [\"You seem quite positive.\",\"I'm glad to hear that.\"],\n",
        "    r\"No\": [\"Why not?\",\"Are you saying 'no' just to be negative?\"],\n",
        "    r\"Hello(.*)\": [\"Hello! How can I help you today?\",\"Hi there! What's on your mind?\"],\n",
        "    r\"Hi(.*)\": [\"Hi! How are you feeling today?\",\"Hello! What would you like to talk about?\"],\n",
        "    r\"quit\": [\"Goodbye!\"],\n",
        "    r\"(.*)\": [\"What would you like to talk about?\",\"Please tell me more.\",\"Can you elaborate on that?\"\"]\n",
        "    r\"I don't want to talk about (.*)\"] = [\"That's fine, we can talk about something else.\",\"No problem, let's change the subject.\"]\n",
        "}"
      ],
      "metadata": {
        "id": "eK2aW8aCcoFC"
      },
      "execution_count": null,
      "outputs": []
    },
    {
      "cell_type": "markdown",
      "source": [],
      "metadata": {
        "id": "w4fVni34ao2F"
      }
    },
    {
      "cell_type": "code",
      "source": [
        "def eliza():\n",
        "  print(\"ELIZA: Hello! How are you feeling today?) (Type 'quit' to end the conversation.)\")\n",
        "  while True:\n",
        "    user_input = input(\"You: \")\n",
        "    if user_input.lower() in [\"quit\", \"exit\"] :\n",
        "      print(\"ELIZA: Goodbye!\")\n",
        "      break\n",
        "    response_given= False\n",
        "    for pattern, responses in patterns.items():\n",
        "      match = re.match(pattern, user_input, re.IGNORECASE)\n",
        "      if match:\n",
        "        groups = tuple(swap_pronouns(g) for g in match.groups())\n",
        "        response = random.choice(responses).format(*groups)\n",
        "        print(\"ELIZA:\", response)\n",
        "        response_given = True\n",
        "        break\n",
        "    if not response_given:\n",
        "      blob = TextBlob(user_input)\n",
        "      sentiment = blob.sentiment.polarity\n",
        "      if sentiment > 0.2:\n",
        "        print(\"ELIZA: I'm glad to hear that!\")\n",
        "      elif sentiment < -0.2:\n",
        "        print(\"ELIZA: I'm sorry to hear that.\")\n",
        "      else:\n",
        "        print(\"ELIZA: Please tell me more.\")"
      ],
      "metadata": {
        "id": "WlZbZvXQoGdm"
      },
      "execution_count": null,
      "outputs": []
    },
    {
      "cell_type": "code",
      "source": [
        "eliza()"
      ],
      "metadata": {
        "id": "_5IJSMhVoJsv",
        "outputId": "e6ff736d-476c-4ce7-d94e-2b98dcd50276",
        "colab": {
          "base_uri": "https://localhost:8080/"
        }
      },
      "execution_count": null,
      "outputs": [
        {
          "output_type": "stream",
          "name": "stdout",
          "text": [
            "ELIZA: Hello! How are you feeling today?) (Type 'quit' to end the conversation.)\n",
            "You: hi i am ok \n",
            "ELIZA: Hello! What would you like to talk about?\n",
            "You: my day \n",
            "ELIZA: Let's change focus a bit... Tell me about your family.\n",
            "You: no i dont want to talk about my fam\n",
            "ELIZA: Are you saying 'no' just to be negative?\n",
            "You: no\n",
            "ELIZA: Are you saying 'no' just to be negative?\n",
            "You: omg\n",
            "ELIZA: How does that make you feel?\n"
          ]
        }
      ]
    }
  ]
}