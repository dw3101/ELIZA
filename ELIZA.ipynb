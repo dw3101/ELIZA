{
  "nbformat": 4,
  "nbformat_minor": 0,
  "metadata": {
    "colab": {
      "provenance": [],
      "authorship_tag": "ABX9TyOVV1bMfJ9ECVsh0hkyhvZH",
      "include_colab_link": true
    },
    "kernelspec": {
      "name": "python3",
      "display_name": "Python 3"
    },
    "language_info": {
      "name": "python"
    }
  },
  "cells": [
    {
      "cell_type": "markdown",
      "metadata": {
        "id": "view-in-github",
        "colab_type": "text"
      },
      "source": [
        "<a href=\"https://colab.research.google.com/github/dw3101/ELIZA/blob/main/ELIZA.ipynb\" target=\"_parent\"><img src=\"https://colab.research.google.com/assets/colab-badge.svg\" alt=\"Open In Colab\"/></a>"
      ]
    },
    {
      "cell_type": "code",
      "source": [
        "!pip install textblob"
      ],
      "metadata": {
        "id": "Bm_fl_wCcrbD",
        "outputId": "89523de5-d434-465f-d9f2-c68d77184f89",
        "colab": {
          "base_uri": "https://localhost:8080/"
        }
      },
      "execution_count": null,
      "outputs": [
        {
          "output_type": "stream",
          "name": "stdout",
          "text": [
            "Requirement already satisfied: textblob in /usr/local/lib/python3.12/dist-packages (0.19.0)\n",
            "Requirement already satisfied: nltk>=3.9 in /usr/local/lib/python3.12/dist-packages (from textblob) (3.9.1)\n",
            "Requirement already satisfied: click in /usr/local/lib/python3.12/dist-packages (from nltk>=3.9->textblob) (8.2.1)\n",
            "Requirement already satisfied: joblib in /usr/local/lib/python3.12/dist-packages (from nltk>=3.9->textblob) (1.5.2)\n",
            "Requirement already satisfied: regex>=2021.8.3 in /usr/local/lib/python3.12/dist-packages (from nltk>=3.9->textblob) (2024.11.6)\n",
            "Requirement already satisfied: tqdm in /usr/local/lib/python3.12/dist-packages (from nltk>=3.9->textblob) (4.67.1)\n"
          ]
        }
      ]
    },
    {
      "cell_type": "code",
      "source": [
        "import re\n",
        "import random\n",
        "from textblob import TextBlob"
      ],
      "metadata": {
        "id": "nOmM_2bhcrXe"
      },
      "execution_count": null,
      "outputs": []
    },
    {
      "cell_type": "code",
      "source": [
        "#pronouns swapping helper method:\n",
        "def swap_pronouns(text):\n",
        "    swaps = {\"i\": \"you\", \"me\": \"you\", \"my\": \"your\", \"am\": \"are\", \"you\": \"I\", \"your\": \"my\", \"mine\": \"yours\", \"myself\": \"yourself\"}\n",
        "    words = text.lower().split()\n",
        "    return ' '.join([swaps[word] if word in swaps else word for word in words])\n"
      ],
      "metadata": {
        "id": "EhuhIXvqcrK9"
      },
      "execution_count": null,
      "outputs": []
    },
    {
      "cell_type": "code",
      "source": [
        "# Define patterns dictionary\n",
        "patterns = {\n",
        "    r\"I am feeling (.*)\": [\"Why are you feeling {0}?\", \"How long have you been feeling {0}?\", \"How do you feel when you start feeling {0}?\"],\n",
        "    r\"I feel (.*)\": [\"Tell me more about {0}\"],\n",
        "    r\"I'd (.*)\": [\"Could you explain why you would {0}?\", \"Why would you {0}?\", \"Who else knows that you would {0}?\"],\n",
        "    r\"I remember (.*)\": [\"Why do you remember {0}?\", \"What happens when you remember {0}?\"],\n",
        "    r\"I (like|love|enjoy) (.*)\": [\"What do you like about {1}?\", \"Why do you {0} {1}?\", \"How often do you {0} {1}?\"],\n",
        "    r\"I (hate|dislike) (.*)\": [\"Why do you {0} {1}?\", \"What happened to make you {0} {1}?\"],\n",
        "    r\"I study (.*)\": [\"What do you enjoy about studying {0}?\", \"Is {0} your favorite subject?\"],\n",
        "    r\"Hello|Hi|Hey\": [\"Hello! How are you feeling today?\", \"Hi there! What's on your mind?\", \"Hey! How can I help you today?\"],\n",
        "    r\"(.*) sorry (.*)\": [\"There's no need to apologize. What's troubling you?\"],\n",
        "    r\"(.*) mother|mom (.*)\": [\"Tell me more about your mother.\", \"How do you feel about your mother?\"],\n",
        "    r\"(.*) father|dad (.*)\": [\"How is your relationship with your father?\", \"What comes to mind when you think of your father?\"],\n",
        "    r\"(.*) family (.*)\": [\"Family relationships can be complex. What would you like to share?\"],\n",
        "    r\"(.*) work|job (.*)\": [\"How do you feel about your work?\", \"What aspects of work are important to you?\"],\n",
        "    r\"(.*) friend|friends (.*)\": [\"Tell me about your friendships.\", \"What do your friends mean to you?\"],\n",
        "    r\"Yes\": [\"You seem quite positive. Can you elaborate?\", \"I see. What makes you say that?\"],\n",
        "    r\"No\": [\"Why not?\", \"Can you tell me more about why you feel that way?\"],\n",
        "    r\"(.*)\": [\"Can you elaborate on that?\", \"How does that make you feel?\", \"What do you think about that?\"]\n",
        "}\n",
        "\n",
        "# Define positive and negative sentiment words for 'I'm' responses\n",
        "positive_words = ['good', 'great', 'happy', 'excellent', 'wonderful', 'fantastic', 'amazing', 'fine', 'okay', 'well', 'better', 'awesome', 'brilliant', 'cheerful', 'content', 'delighted', 'ecstatic', 'elated', 'excited', 'glad', 'joyful', 'pleased', 'satisfied', 'thrilled']\n",
        "negative_words = ['bad', 'terrible', 'awful', 'sad', 'depressed', 'upset', 'angry', 'mad', 'frustrated', 'worried', 'anxious', 'stressed', 'tired', 'exhausted', 'lonely', 'hurt', 'disappointed', 'confused', 'lost', 'miserable', 'sick', 'ill', 'down', 'low']\n",
        "\n",
        "# Response sets for positive and negative sentiments\n",
        "positive_responses = [\n",
        "    \"Oh great! Would you like to share why?\",\n",
        "    \"That's wonderful to hear! What made you feel this way?\",\n",
        "    \"I'm glad you are feeling {0}. What contributed to that?\"\n",
        "]\n",
        "\n",
        "negative_responses = [\n",
        "    \"Oh, I'm sorry to hear that! Why do you feel that way?\",\n",
        "    \"That's tough. Is there something you'd like to talk about?\",\n",
        "    \"I'm here for you. What happened?\"\n",
        "]\n",
        "\n",
        "# Function to handle 'I'm' statements with sentiment analysis\n",
        "def handle_im_statement(feeling):\n",
        "    feeling_lower = feeling.lower()\n",
        "\n",
        "    # Check for positive sentiment words\n",
        "    for word in positive_words:\n",
        "        if word in feeling_lower:\n",
        "            return random.choice(positive_responses).format(feeling)\n",
        "\n",
        "    # Check for negative sentiment words\n",
        "    for word in negative_words:\n",
        "        if word in feeling_lower:\n",
        "            return random.choice(negative_responses)\n",
        "\n",
        "    # Default response if no specific sentiment detected\n",
        "    return random.choice([\"Why are you \" + feeling + \"?\", \"How do you feel about being \" + feeling + \"?\"]"
      ],
      "metadata": {
        "id": "eK2aW8aCcoFC"
      },
      "execution_count": null,
      "outputs": []
    },
    {
      "cell_type": "markdown",
      "source": [],
      "metadata": {
        "id": "w4fVni34ao2F"
      }
    },
    {
      "cell_type": "code",
      "source": [
        "def eliza():\n",
        "  print(\"ELIZA: Hello! How are you feeling today? (Type 'quit' to end the conversation.)\")\n",
        "  while True:\n",
        "    user_input = input(\"You: \")\n",
        "    if user_input.lower() in [\"quit\", \"exit\"] :\n",
        "      print(\"ELIZA: Goodbye!\")\n",
        "      break\n",
        "    response_given = False\n",
        "\n",
        "    # Check for 'I'm' pattern first with special handling\n",
        "    im_match = re.match(r\"I'm (.*)\", user_input, re.IGNORECASE)\n",
        "    if im_match:\n",
        "      feeling = im_match.group(1).strip()\n",
        "      response = handle_im_statement(feeling)\n",
        "      print(\"ELIZA:\", response)\n",
        "      response_given = True\n",
        "\n",
        "    # If not an 'I'm' statement, check other patterns\n",
        "    if not response_given:\n",
        "      for pattern, responses in patterns.items():\n",
        "        match = re.match(pattern, user_input, re.IGNORECASE)\n",
        "        if match:\n",
        "          groups = tuple(swap_pronouns(g) for g in match.groups())\n",
        "          response = random.choice(responses).format(*groups)\n",
        "          print(\"ELIZA:\", response)\n",
        "          response_given = True\n",
        "          break\n",
        "\n",
        "    # If no pattern matched, use default sentiment analysis\n",
        "    if not response_given:\n",
        "      blob = TextBlob(user_input)\n",
        "      sentiment = blob.sentiment.polarity\n",
        "      if sentiment > 0.2:\n",
        "        print(\"ELIZA: I'm glad to hear that!\")\n",
        "      elif sentiment < -0.2:\n",
        "        print(\"ELIZA: I'm sorry to hear that.\")\n",
        "      else:\n",
        "        print(\"ELIZA: Please tell me more.\")"
      ],
      "metadata": {
        "id": "WlZbZvXQoGdm"
      },
      "execution_count": null,
      "outputs": []
    },
    {
      "cell_type": "code",
      "source": [
        "eliza()"
      ],
      "metadata": {
        "id": "_5IJSMhVoJsv",
        "outputId": "7709ca81-c3b2-4006-f84d-0262c42f2da8",
        "colab": {
          "base_uri": "https://localhost:8080/"
        }
      },
      "execution_count": null,
      "outputs": [
        {
          "output_type": "stream",
          "name": "stdout",
          "text": [
            "ELIZA: Hello! How are you feeling today?) (Type 'quit' to end the conversation.)\n",
            "You: hi\n",
            "ELIZA: Hi! How are you feeling today?\n",
            "You: i am good\n",
            "ELIZA: How do you feel about being good?\n"
          ]
        }
      ]
    }
  ]
}